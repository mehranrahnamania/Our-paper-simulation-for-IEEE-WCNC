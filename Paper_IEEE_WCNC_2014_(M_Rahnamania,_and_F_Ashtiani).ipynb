{
  "nbformat": 4,
  "nbformat_minor": 0,
  "metadata": {
    "colab": {
      "private_outputs": true,
      "provenance": []
    },
    "kernelspec": {
      "name": "python3",
      "display_name": "Python 3"
    },
    "language_info": {
      "name": "python"
    }
  },
  "cells": [
    {
      "cell_type": "code",
      "execution_count": null,
      "metadata": {
        "id": "-SzftWx8yVnk"
      },
      "outputs": [],
      "source": [
        "!pip install simpy"
      ]
    },
    {
      "cell_type": "code",
      "source": [
        "import matplotlib.pyplot as plt\n",
        "import simpy\n",
        "import numpy as np\n",
        "from sympy import *"
      ],
      "metadata": {
        "id": "wEX7cHie4Wxz"
      },
      "execution_count": null,
      "outputs": []
    },
    {
      "cell_type": "markdown",
      "source": [
        "# For A"
      ],
      "metadata": {
        "id": "y6GNyQJaD39z"
      }
    },
    {
      "cell_type": "code",
      "source": [
        "#our model with conccurent arrival in two diffrent queues\n",
        "class A:\n",
        "    def __init__(self, env, lam, mu_1, mu_2, lam_u):\n",
        "        self.env = env\n",
        "        self.q_1 = simpy.Store(env)\n",
        "        self.q_2 = simpy.Store(env)\n",
        "        self.mean_update = 1/(lam_u)\n",
        "        self.mean_arrival = 2/lam\n",
        "        self.mean_service_1 = 1/mu_1\n",
        "        self.mean_service_2 = 1/mu_2\n",
        "        # Arrival(queue's number, customer's calss)     Departure(queue's number, customer's calss)\n",
        "        self.data = {'Arrival(Q1,C1)':[], 'Departure(Q1,C1)':[], 'Arrival(Q2,C2)':[], 'Departure(Q2,C1)':[], 'Departure(Q2,C2)':[]}\n",
        "\n",
        "    def queue_1(self):\n",
        "        while True:\n",
        "            x =  yield self.q_1.get()\n",
        "            if x == 'C1':\n",
        "                yield self.env.timeout(np.longfloat(np.random.exponential(self.mean_service_1)))\n",
        "                self.data['Departure(Q1,C1)'].append(np.longfloat(self.env.now))\n",
        "                self.q_2.put('C1')\n",
        "            elif x == 'u':\n",
        "                yield self.env.timeout(np.longfloat(np.random.exponential(self.mean_service_1)))\n",
        "\n",
        "\n",
        "    def queue_2(self):\n",
        "        while True:\n",
        "            c = yield self.q_2.get()\n",
        "            if c == 'C1':\n",
        "                yield self.env.timeout(np.longfloat(np.random.exponential(self.mean_service_2)))\n",
        "                self.data['Departure(Q2,C1)'].append(np.longfloat(self.env.now))\n",
        "            elif c == 'C2':\n",
        "                yield self.env.timeout(np.longfloat(np.random.exponential(self.mean_service_2)))\n",
        "                self.data['Departure(Q2,C2)'].append(np.longfloat(self.env.now))\n",
        "\n",
        "    def arrival_1(self):\n",
        "        while True:\n",
        "            yield self.env.timeout(np.longfloat(np.random.exponential(self.mean_arrival)))\n",
        "            self.data['Arrival(Q1,C1)'].append(np.longfloat(self.env.now))\n",
        "            self.q_1.put('C1')\n",
        "            self.data['Arrival(Q1,C1)'].append(np.longfloat(self.env.now))\n",
        "            self.q_1.put('C1')\n",
        "\n",
        "\n",
        "    def arrival_2(self):\n",
        "        while True:\n",
        "            yield self.env.timeout(np.longfloat(np.random.exponential(self.mean_arrival)))\n",
        "            self.data['Arrival(Q2,C2)'].append(np.longfloat(self.env.now))\n",
        "            self.q_2.put('C2')\n",
        "            self.data['Arrival(Q2,C2)'].append(np.longfloat(self.env.now))\n",
        "            self.q_2.put('C2')\n",
        "\n",
        "\n",
        "    def update_file(self):\n",
        "        while True:\n",
        "            yield self.env.timeout(np.longfloat(np.random.exponential(self.mean_update)))\n",
        "            self.q_1.put('u')\n",
        "            self.q_1.put('u')\n"
      ],
      "metadata": {
        "id": "BY43veWv51UI"
      },
      "execution_count": null,
      "outputs": []
    },
    {
      "cell_type": "markdown",
      "source": [
        "Test the accuracy of the simulation."
      ],
      "metadata": {
        "id": "ykyhHJjWEOob"
      }
    },
    {
      "cell_type": "code",
      "source": [
        "lam, mu_1, mu_2, lam_u = 3, 5, 10, 0.25 # request rate, service 1 rate, service 2 rate, update rate\n",
        "\n",
        "env = simpy.Environment()\n",
        "net = A(env, lam, mu_1, mu_2, lam_u)\n",
        "env.process(net.arrival_1())\n",
        "env.process(net.arrival_2())\n",
        "env.process(net.queue_2())\n",
        "env.process(net.queue_1())\n",
        "env.process(net.update_file())\n",
        "env.run(2*10**6)"
      ],
      "metadata": {
        "id": "q0ao4WQM4rND"
      },
      "execution_count": null,
      "outputs": []
    },
    {
      "cell_type": "code",
      "source": [
        "l_1 = len(net.data['Departure(Q2,C1)'])\n",
        "l_2 = len(net.data['Departure(Q2,C2)'])\n",
        "l1 = int(l_1*0.3)   #margin\n",
        "l2 = int(l_2*0.3)   #margin\n",
        "\n",
        "w_1a = (sum(net.data['Departure(Q2,C1)'][l1:-l1+l_1]) - sum(net.data['Arrival(Q1,C1)'][l1:-l1+l_1])) / len(net.data['Departure(Q2,C1)'][l1:-l1+l_1])\n",
        "w_2a = (sum(net.data['Departure(Q2,C2)'][l2:-l2+l_2]) - sum(net.data['Arrival(Q2,C2)'][l2:-l2+l_2])) / len(net.data['Departure(Q2,C2)'][l2:-l2+l_2])\n",
        "print(w_1a, w_2a)\n",
        "sim = (w_1a + w_2a)/2\n",
        "\n",
        "#theory of above simulation\n",
        "p1a = (3 * lam + 6 * lam_u) / (2 * mu_1 + lam + 2 * lam_u)\n",
        "p2a = (5 * lam + lam * (mu_1)/(mu_1 + mu_2)) / (2 * mu_2 + lam + lam * (mu_1)/(mu_1 + mu_2))\n",
        "\n",
        "w_1a = (p1a / (1 - p1a)) * (1 / (lam + 2 * lam_u))\n",
        "w_2a = (p2a / (1 - p2a)) * (1 / (2 * lam))\n",
        "\n",
        "theo = (2*w_1a + 4*w_2a)/4\n",
        "\n",
        "print(theo)\n",
        "print(\"Error :\", (sim - theo)*100/sim)"
      ],
      "metadata": {
        "id": "dkhJWotSK_QL"
      },
      "execution_count": null,
      "outputs": []
    },
    {
      "cell_type": "markdown",
      "source": [
        "# For B"
      ],
      "metadata": {
        "id": "eVu7cj5SD_HN"
      }
    },
    {
      "cell_type": "code",
      "source": [
        "#our model with conccurent arrival in two diffrent queues\n",
        "class B:\n",
        "    def __init__(self, env, lam, mu_1, mu_2, lam_u):\n",
        "        self.env = env\n",
        "        self.q_1 = simpy.Store(env)\n",
        "        self.q_2 = simpy.Store(env)\n",
        "        self.mean_update = 1/(2*lam_u)\n",
        "        self.mean_arrival = 1/lam\n",
        "        self.mean_service_1 = 1/mu_1\n",
        "        self.mean_service_2 = 1/mu_2\n",
        "        # Arrival(queue's number, customer's calss)     Departure(queue's number, customer's calss)\n",
        "        self.data = {'Arrival(Q1,C1)':[], 'Departure(Q1,C1)':[], 'Arrival(Q2,C2)':[], 'Departure(Q2,C1)':[], 'Departure(Q2,C2)':[]}\n",
        "\n",
        "    def queue_1(self):\n",
        "        while True:\n",
        "            x =  yield self.q_1.get()\n",
        "            yield self.env.timeout(np.longfloat(np.random.exponential(self.mean_service_1)))\n",
        "            if x == 'C1':\n",
        "                self.data['Arrival(Q2,C2)'].append(np.longfloat(self.env.now))\n",
        "                self.q_2.put('C2')\n",
        "\n",
        "                self.data['Departure(Q1,C1)'].append(np.longfloat(self.env.now))\n",
        "                self.q_2.put('C1')\n",
        "\n",
        "\n",
        "    def queue_2(self):\n",
        "        while True:\n",
        "            c = yield self.q_2.get()\n",
        "            if c == 'C1':\n",
        "                yield self.env.timeout(np.longfloat(np.random.exponential(self.mean_service_2)))\n",
        "                self.data['Departure(Q2,C1)'].append(np.longfloat(self.env.now))\n",
        "            elif c == 'C2':\n",
        "                yield self.env.timeout(np.longfloat(np.random.exponential(self.mean_service_2)))\n",
        "                self.data['Departure(Q2,C2)'].append(np.longfloat(self.env.now))\n",
        "\n",
        "    def arrival(self):\n",
        "        while True:\n",
        "            yield self.env.timeout(np.longfloat(np.random.exponential(self.mean_arrival)))\n",
        "            self.data['Arrival(Q1,C1)'].append(np.longfloat(self.env.now))\n",
        "            self.q_1.put('C1')\n",
        "\n",
        "\n",
        "\n",
        "    def update_file(self):\n",
        "        while True:\n",
        "            yield self.env.timeout(np.longfloat(np.random.exponential(self.mean_update)))\n",
        "            self.q_1.put('u')"
      ],
      "metadata": {
        "id": "dSdYPbpYFIh2"
      },
      "execution_count": null,
      "outputs": []
    },
    {
      "cell_type": "code",
      "source": [
        "lam, mu_1, mu_2, lam_u = 1, 5, 10, 0.25 # request rate, service 1 rate, service 2 rate, update rate\n",
        "\n",
        "env = simpy.Environment()\n",
        "net = B(env, lam, mu_1, mu_2, lam_u)\n",
        "env.process(net.arrival())\n",
        "env.process(net.queue_2())\n",
        "env.process(net.queue_1())\n",
        "env.process(net.update_file())\n",
        "env.run(2*10**6)"
      ],
      "metadata": {
        "id": "cwGjbSPUFZ0Y"
      },
      "execution_count": null,
      "outputs": []
    },
    {
      "cell_type": "code",
      "source": [
        "l_1 = len(net.data['Departure(Q2,C1)'])\n",
        "l_2 = len(net.data['Departure(Q2,C2)'])\n",
        "l1 = int(l_1*0.3)   #margin\n",
        "l2 = int(l_2*0.3)   #margin\n",
        "\n",
        "w_1b = (sum(net.data['Departure(Q2,C1)'][l1:-l1+l_1]) - sum(net.data['Arrival(Q1,C1)'][l1:-l1+l_1])) / len(net.data['Departure(Q2,C1)'][l1:-l1+l_1])\n",
        "w_2b = (sum(net.data['Departure(Q2,C2)'][l2:-l2+l_2]) - sum(net.data['Arrival(Q2,C2)'][l2:-l2+l_2])) / len(net.data['Departure(Q2,C2)'][l2:-l2+l_2])\n",
        "print(w_1b, w_2b)\n",
        "sim = (w_1b + w_2b)/2\n",
        "\n",
        "#theory of above simulation\n",
        "p2b = (3 * lam) / (mu_2 + lam)\n",
        "\n",
        "w_1b = 1 / (mu_1 - lam - 2 * lam_u)\n",
        "w_2b = (p2b / (1 - p2b)) * (1 / (2 * lam))\n",
        "\n",
        "theo = (w_1b / 2) + w_2b\n",
        "\n",
        "print(theo)\n",
        "print(\"Error :\", (sim - theo)*100/sim)"
      ],
      "metadata": {
        "id": "CiRm9nHAFgo1"
      },
      "execution_count": null,
      "outputs": []
    },
    {
      "cell_type": "markdown",
      "source": [
        "# For C"
      ],
      "metadata": {
        "id": "wfN0816nEA2Z"
      }
    },
    {
      "cell_type": "code",
      "source": [
        "#our model with conccurent arrival in two diffrent queues\n",
        "class C:\n",
        "    def __init__(self, env, lam, mu_1, mu_2, lam_u):\n",
        "        self.env = env\n",
        "        self.q_1 = simpy.Store(env)\n",
        "        self.q_2 = simpy.Store(env)\n",
        "        self.mean_update = 1/(lam_u*2)\n",
        "        self.mean_arrival = 1/lam\n",
        "        self.mean_service_1 = 1/mu_1\n",
        "        self.mean_service_2 = 1/mu_2\n",
        "        # Arrival(queue's number, customer's calss)     Departure(queue's number, customer's calss)\n",
        "        self.data = {'Arrival(Q1,C1)':[], 'Departure(Q1,C1)':[], 'Arrival(Q2,C2)':[], 'Departure(Q2,C1)':[], 'Departure(Q2,C2)':[]}\n",
        "\n",
        "    def queue_1(self):\n",
        "        while True:\n",
        "            x =  yield self.q_1.get()\n",
        "            yield self.env.timeout(np.longfloat(np.random.exponential(self.mean_service_1)))\n",
        "            if x == 'C1':\n",
        "                self.data['Departure(Q1,C1)'].append(np.longfloat(self.env.now))\n",
        "                self.q_2.put('C1')\n",
        "\n",
        "    def queue_2(self):\n",
        "        while True:\n",
        "            c = yield self.q_2.get()\n",
        "            if c == 'C1':\n",
        "                yield self.env.timeout(np.longfloat(np.random.exponential(self.mean_service_2)))\n",
        "                self.data['Departure(Q2,C1)'].append(np.longfloat(self.env.now))\n",
        "            elif c == 'C2':\n",
        "                yield self.env.timeout(np.longfloat(np.random.exponential(self.mean_service_2)))\n",
        "                self.data['Departure(Q2,C2)'].append(np.longfloat(self.env.now))\n",
        "\n",
        "    def arrival(self):\n",
        "        while True:\n",
        "            yield self.env.timeout(np.longfloat(np.random.exponential(self.mean_arrival)))\n",
        "            self.data['Arrival(Q1,C1)'].append(np.longfloat(self.env.now))\n",
        "            self.q_1.put('C1')\n",
        "            self.data['Arrival(Q2,C2)'].append(np.longfloat(self.env.now))\n",
        "            self.q_2.put('C2')\n",
        "\n",
        "\n",
        "    def update_file(self):\n",
        "        while True:\n",
        "            yield self.env.timeout(np.longfloat(np.random.exponential(self.mean_update)))\n",
        "            self.q_1.put('u')"
      ],
      "metadata": {
        "id": "p9JJ-AsDFK4b"
      },
      "execution_count": null,
      "outputs": []
    },
    {
      "cell_type": "code",
      "source": [
        "lam, mu_1, mu_2, lam_u = 3, 5, 10, 0.5  # request rate, service 1 rate, service 2 rate, update rate\n",
        "\n",
        "env = simpy.Environment()\n",
        "net = C(env, lam, mu_1, mu_2, lam_u)\n",
        "env.process(net.arrival())\n",
        "env.process(net.queue_2())\n",
        "env.process(net.queue_1())\n",
        "env.process(net.update_file())\n",
        "env.run(10**6)"
      ],
      "metadata": {
        "id": "hebe0o8eFjJQ"
      },
      "execution_count": null,
      "outputs": []
    },
    {
      "cell_type": "code",
      "source": [
        "l_1 = len(net.data['Departure(Q2,C1)'])\n",
        "l_2 = len(net.data['Departure(Q2,C2)'])\n",
        "l1 = int(l_1*0.3)   #margin\n",
        "l2 = int(l_2*0.3)   #margin\n",
        "\n",
        "w_1c = (sum(net.data['Departure(Q2,C1)'][l1:-l1+l_1]) - sum(net.data['Arrival(Q1,C1)'][l1:-l1+l_1])) / len(net.data['Departure(Q2,C1)'][l1:-l1+l_1])\n",
        "w_2c = (sum(net.data['Departure(Q2,C2)'][l2:-l2+l_2]) - sum(net.data['Arrival(Q2,C2)'][l2:-l2+l_2])) / len(net.data['Departure(Q2,C2)'][l2:-l2+l_2])\n",
        "print(w_1c, w_2c)\n",
        "sim = (w_1c + w_2c)/2\n",
        "\n",
        "#theory of above simulation\n",
        "p2c = (2 * lam + lam * (mu_1 / (mu_1 + mu_2))) / (mu_2 + lam * (mu_1 / (mu_1 + mu_2)))\n",
        "p1c = (lam + lam_u)/(mu_1)\n",
        "\n",
        "\n",
        "\n",
        "w_1c = (p1c / (1 - p1c)) * (1 / (lam + lam_u))\n",
        "w_2c = (p2c / (1 - p2c)) * (1 / (2 * lam))\n",
        "\n",
        "theo = (w_1c / 2) + w_2c\n",
        "\n",
        "\n",
        "print(theo)\n",
        "print(\"Error :\", (sim - theo)*100/sim)"
      ],
      "metadata": {
        "id": "o_aSgVsaFi8C"
      },
      "execution_count": null,
      "outputs": []
    },
    {
      "cell_type": "markdown",
      "source": [
        "# Evalution for the variation of lambda for A"
      ],
      "metadata": {
        "id": "ML9CndDlMbLw"
      }
    },
    {
      "cell_type": "code",
      "source": [
        "import pandas as pd\n",
        "\n",
        "data_A = {'Lambda':[], 'Simulation':[], 'Theory':[], 'Error':[]}\n",
        "\n",
        "n = 40\n",
        "for i in np.linspace(1, 4.5, 5):\n",
        "    lam, mu_1, mu_2, lam_u = i, 30, 10, 0.5   # request rate, service 1 rate, service 2 rate, update rate\n",
        "\n",
        "    data_A['Lambda'].append(lam)\n",
        "    ############################################################################\n",
        "    #simulation A\n",
        "    env = simpy.Environment()\n",
        "    net = A(env, lam, mu_1, mu_2, lam_u)\n",
        "    env.process(net.arrival_1())\n",
        "    env.process(net.arrival_2())\n",
        "    env.process(net.queue_2())\n",
        "    env.process(net.queue_1())\n",
        "    env.process(net.update_file())\n",
        "    env.run(n*10**5)\n",
        "    n = n-5\n",
        "\n",
        "    l_1 = len(net.data['Departure(Q2,C1)'])\n",
        "    l_2 = len(net.data['Departure(Q2,C2)'])\n",
        "    l1 = int(l_1*0.35)   #margin\n",
        "    l2 = int(l_2*0.35)   #margin\n",
        "\n",
        "    w_1a = (sum(net.data['Departure(Q2,C1)'][l1:-l1+l_1]) - sum(net.data['Arrival(Q1,C1)'][l1:-l1+l_1])) / len(net.data['Departure(Q2,C1)'][l1:-l1+l_1])\n",
        "    w_2a = (sum(net.data['Departure(Q2,C2)'][l2:-l2+l_2]) - sum(net.data['Arrival(Q2,C2)'][l2:-l2+l_2])) / len(net.data['Departure(Q2,C2)'][l2:-l2+l_2])\n",
        "    sim_a = (w_1a + w_2a)/2\n",
        "    data_A['Simulation'].append(round(sim_a, 3))\n",
        "\n",
        "\n",
        "    #theory of above simulation\n",
        "    p1a = (3 * lam + 6 * lam_u) / (2 * mu_1 + lam + 2 * lam_u)\n",
        "    p2a = (5 * lam + lam * (mu_1)/(mu_1 + mu_2)) / (2 * mu_2 + lam + lam * (mu_1)/(mu_1 + mu_2))\n",
        "\n",
        "    w_1a = (p1a / (1 - p1a)) * (1 / (lam + 2 * lam_u))\n",
        "    w_2a = (p2a / (1 - p2a)) * (1 / (2 * lam))\n",
        "\n",
        "    theo_a = (2*w_1a + 4*w_2a)/4\n",
        "\n",
        "    data_A['Theory'].append(round(theo_a, 3))\n",
        "    data_A['Error'].append(round((sim_a - theo_a)*100/sim_a, 3))\n"
      ],
      "metadata": {
        "id": "aN-GU-HQMa0M"
      },
      "execution_count": null,
      "outputs": []
    },
    {
      "cell_type": "code",
      "source": [
        "data_A"
      ],
      "metadata": {
        "id": "QFbityCFms21"
      },
      "execution_count": null,
      "outputs": []
    },
    {
      "cell_type": "code",
      "source": [
        "x1 = [1.0, 1.625, 2.25, 2.875, 3.5]\n",
        "ya1 = [0.417, 0.514, 0.67, 0.978, 1.948]  #mu_1 = 5, mu_2 = 10, lam_u = 0.5\n",
        "\n",
        "\n",
        "x2 = [1.0, 1.875, 2.75, 3.625, 4.5]          #mu_1 = 30, mu_2 = 10, lam_u = 0.5\n",
        "ya2 = [0.207, 0.259, 0.350, 0.560, 1.481]\n",
        "\n",
        "x3 = [1.0, 1.75, 2.5, 3.25, 4.0]\n",
        "ya3 = [0.267, 0.319, 0.397, 0.536, 0.87]    #mu_1 = 10, mu_2 = 10, lam_u = 0.5"
      ],
      "metadata": {
        "id": "aJJ4ChVHr04c"
      },
      "execution_count": null,
      "outputs": []
    },
    {
      "cell_type": "markdown",
      "source": [
        "# Evalution for the variation of lambda for B"
      ],
      "metadata": {
        "id": "dHmsI6kyEjDw"
      }
    },
    {
      "cell_type": "code",
      "source": [
        "data_B = {'Lambda':[], 'Simulation':[], 'Theory':[], 'Error':[]}\n",
        "n = 40\n",
        "\n",
        "for i in np.linspace(1, 4.5, 5):\n",
        "    lam, mu_1, mu_2, lam_u = i, 30, 10, 0.5  # request rate, service 1 rate, service 2 rate, update rate\n",
        "\n",
        "    data_B['Lambda'].append(lam)\n",
        "\n",
        "    ############################################################################\n",
        "    #simulation B\n",
        "    env = simpy.Environment()\n",
        "    net = B(env, lam, mu_1, mu_2, lam_u)\n",
        "    env.process(net.arrival())\n",
        "    env.process(net.queue_2())\n",
        "    env.process(net.queue_1())\n",
        "    env.process(net.update_file())\n",
        "    env.run(n*10**5)\n",
        "    n = n-5\n",
        "\n",
        "    l_1 = len(net.data['Departure(Q2,C1)'])\n",
        "    l_2 = len(net.data['Departure(Q2,C2)'])\n",
        "    l1 = int(l_1*0.3)   #margin\n",
        "    l2 = int(l_2*0.3)   #margin\n",
        "\n",
        "    w_1b = (sum(net.data['Departure(Q2,C1)'][l1:-l1+l_1]) - sum(net.data['Arrival(Q1,C1)'][l1:-l1+l_1])) / len(net.data['Departure(Q2,C1)'][l1:-l1+l_1])\n",
        "    w_2b = (sum(net.data['Departure(Q2,C2)'][l2:-l2+l_2]) - sum(net.data['Arrival(Q2,C2)'][l2:-l2+l_2])) / len(net.data['Departure(Q2,C2)'][l2:-l2+l_2])\n",
        "    sim_b = (w_1b + w_2b)/2\n",
        "    data_B['Simulation'].append(round(sim_b, 3))\n",
        "\n",
        "\n",
        "    #theory of above simulation\n",
        "    p2b = (3 * lam) / (mu_2 + lam)\n",
        "\n",
        "    w_1b = 1 / (mu_1 - lam - 2 * lam_u)\n",
        "    w_2b = (p2b / (1 - p2b)) * (1 / (2 * lam))\n",
        "    theo_b = (w_1b / 2) + w_2b\n",
        "\n",
        "    data_B['Theory'].append(round(theo_b, 3))\n",
        "    data_B['Error'].append(round((sim_b - theo_b)*100/sim_b, 3))"
      ],
      "metadata": {
        "id": "Zpt1pVI9GzQH"
      },
      "execution_count": null,
      "outputs": []
    },
    {
      "cell_type": "code",
      "source": [
        "data_B"
      ],
      "metadata": {
        "id": "t6NaXJ4wRzOH"
      },
      "execution_count": null,
      "outputs": []
    },
    {
      "cell_type": "code",
      "source": [
        "x1 = [1.0, 1.625, 2.25, 2.875, 3.5]          #mu_1 = 5, mu_2 = 10, lam_u = 0.5\n",
        "yb1 = [0.354, 0.432, 0.559, 0.797, 1.512]\n",
        "\n",
        "\n",
        "x2 = [1.0, 1.875, 2.75, 3.625, 4.5]           #mu_1 = 30, mu_2 = 10, lam_u = 0.5\n",
        "yb2 = [0.206, 0.258, 0.353, 0.566, 1.53]\n",
        "\n",
        "x3 = [1.0, 1.75, 2.5, 3.25, 4.0]            #mu_1 = 10, mu_2 = 10, lam_u = 0.5\n",
        "yb3 = [0.25, 0.3, 0.378, 0.514, 0.849]"
      ],
      "metadata": {
        "id": "16tFtsZWro8m"
      },
      "execution_count": null,
      "outputs": []
    },
    {
      "cell_type": "markdown",
      "source": [
        "# Evalution for the variation of lambda for C"
      ],
      "metadata": {
        "id": "EqVv6Ob8EkhJ"
      }
    },
    {
      "cell_type": "code",
      "source": [
        "data_C = {'Lambda':[], 'Simulation':[], 'Theory':[], 'Error':[]}\n",
        "n = 50\n",
        "\n",
        "for i in np.linspace(1, 4.5, 5):\n",
        "    lam, mu_1, mu_2, lam_u = i, 30, 10, 0.5  # request rate, service 1 rate, service 2 rate, update rate\n",
        "\n",
        "    data_C['Lambda'].append(lam)\n",
        "    ############################################################################\n",
        "    #simulation C\n",
        "    env = simpy.Environment()\n",
        "    net = C(env, lam, mu_1, mu_2, lam_u)\n",
        "    env.process(net.arrival())\n",
        "    env.process(net.queue_2())\n",
        "    env.process(net.queue_1())\n",
        "    env.process(net.update_file())\n",
        "    env.run(n*10**5)\n",
        "    n = n-5\n",
        "\n",
        "    l_1 = len(net.data['Departure(Q2,C1)'])\n",
        "    l_2 = len(net.data['Departure(Q2,C2)'])\n",
        "    l1 = int(l_1*0.4)   #margin\n",
        "    l2 = int(l_2*0.4)   #margin\n",
        "\n",
        "    w_1c = (sum(net.data['Departure(Q2,C1)'][l1:-l1+l_1]) - sum(net.data['Arrival(Q1,C1)'][l1:-l1+l_1])) / len(net.data['Departure(Q2,C1)'][l1:-l1+l_1])\n",
        "    w_2c = (sum(net.data['Departure(Q2,C2)'][l2:-l2+l_2]) - sum(net.data['Arrival(Q2,C2)'][l2:-l2+l_2])) / len(net.data['Departure(Q2,C2)'][l2:-l2+l_2])\n",
        "    sim_c = (w_1c + w_2c)/2\n",
        "    data_C['Simulation'].append(round(sim_c, 5))\n",
        "\n",
        "\n",
        "    #theory of above simulation\n",
        "    p2c = (2 * lam + lam * (mu_1 / (mu_1 + mu_2))) / (mu_2 + lam * (mu_1 / (mu_1 + mu_2)))\n",
        "\n",
        "    w_1c = 1 / (mu_1 - lam - 2 * lam_u)\n",
        "    w_2c = (p2c / (1 - p2c)) * (1 / (2 * lam))\n",
        "\n",
        "    theo_c = (w_1c / 2) + w_2c\n",
        "\n",
        "    data_C['Theory'].append(round(theo_c, 3))\n",
        "    data_C['Error'].append(round((sim_c - theo_c)*100/sim_c, 3))"
      ],
      "metadata": {
        "id": "2sxaW8Ipnbvo"
      },
      "execution_count": null,
      "outputs": []
    },
    {
      "cell_type": "code",
      "source": [
        "data_C"
      ],
      "metadata": {
        "id": "Gj09iBNwyBXQ"
      },
      "execution_count": null,
      "outputs": []
    },
    {
      "cell_type": "code",
      "source": [
        "x1 = [1.0, 1.625, 2.25, 2.875, 3.5]                     #mu_1 = 5, mu_2 = 10, lam_u = 0.5\n",
        "yc1 = [0.30919, 0.37937, 0.49077, 0.70392, 1.35608]\n",
        "\n",
        "x2 = [1.0, 1.875, 2.75, 3.625, 4.5]                     #mu_1 = 30, mu_2 = 10, lam_u = 0.5\n",
        "yc2 = [0.19187, 0.24454, 0.33718, 0.53775, 1.43021]\n",
        "\n",
        "x3 =  [1.0, 1.75, 2.5, 3.25, 4.0]                       #mu_1 = 10, mu_2 = 10, lam_u = 0.5\n",
        "yc3 = [0.22, 0.265, 0.337, 0.46, 0.761]"
      ],
      "metadata": {
        "id": "IyKXVClzr-_d"
      },
      "execution_count": null,
      "outputs": []
    },
    {
      "cell_type": "markdown",
      "source": [
        "# Theorical calculations"
      ],
      "metadata": {
        "id": "NSHZp16rhlE3"
      }
    },
    {
      "cell_type": "code",
      "source": [
        "Ta, Tb, Tc, lambda_ = [], [], [], []\n",
        "Aa, Ab, Ac = [], [], []\n",
        "mu_1, mu_2, lam_u, N = 5, 10, 0.5, 10\n",
        "\n",
        "for lam in np.linspace(1, 3.5 , 200):\n",
        "    lambda_.append(lam)\n",
        "\n",
        "    ################################  theory case A\n",
        "    p1a = (3 * lam + 6 * lam_u) / (2 * mu_1 + lam + 2 * lam_u)\n",
        "    p2a = (5 * lam + lam * (mu_1)/(mu_1 + mu_2)) / (2 * mu_2 + lam + lam * (mu_1)/(mu_1 + mu_2))\n",
        "\n",
        "    w_1a = (p1a / (1 - p1a)) * (1 / (lam + 2 * lam_u))\n",
        "    w_2a = (p2a / (1 - p2a)) * (1 / (2 * lam))\n",
        "\n",
        "    result_a = (w_1a/2 + w_2a)\n",
        "    Ta.append(result_a)\n",
        "\n",
        "    ################################  theory case B\n",
        "    p2b = (3 * lam) / (mu_2 + lam)\n",
        "\n",
        "    w_1b = 1 / (mu_1 - lam - 2 * lam_u)\n",
        "    w_2b = (p2b / (1 - p2b)) * (1 / (2 * lam))\n",
        "\n",
        "    result_b = (w_1b / 2) + w_2b\n",
        "    Tb.append(result_b)\n",
        "\n",
        "    ################################  theory case C\n",
        "    p2c = (2 * lam + lam * (mu_1 / (mu_1 + mu_2))) / (mu_2 + lam * (mu_1 / (mu_1 + mu_2)))\n",
        "\n",
        "    w_1c = 1 / (mu_1 - lam - 2 * lam_u)\n",
        "    w_2c = (p2c / (1 - p2c)) * (1 / (2 * lam))\n",
        "\n",
        "    result_c = (w_1c / 2) + w_2c\n",
        "    Tc.append(result_c)\n",
        "\n",
        "\n",
        "    ################################ AoI\n",
        "    aa = (((1 + N)/(lam_u) + 2/mu_1 + 2/mu_2) + (2/mu_1 + w_2a))/2\n",
        "    ab = (((1 + 2 * N)/(2 * lam_u) + 1/mu_1 + 1/mu_2) + (1/mu_1 + w_2b))/2\n",
        "    ac = (((1 + 2 * N)/(2 * lam_u) + 1/mu_1 + 1/mu_2 )+ (1/mu_1 + w_2c))/2\n",
        "\n",
        "    Aa.append(aa)\n",
        "    Ab.append(ab)\n",
        "    Ac.append(ac)"
      ],
      "metadata": {
        "id": "TX1U23a0o9UR"
      },
      "execution_count": null,
      "outputs": []
    },
    {
      "cell_type": "code",
      "source": [
        "import numpy as np\n",
        "\n",
        "Ta2, Tb2, Tc2, lambda_2 = [], [], [], []\n",
        "Aa2, Ab2, Ac2 = [], [], []\n",
        "mu_1, mu_2, lam_u, N = 30, 10, 0.5, 10\n",
        "\n",
        "for lam in np.linspace(1, 4.5 , 200):\n",
        "    lambda_2.append(lam)\n",
        "\n",
        "    ################################  theory case A\n",
        "    p1a = (3 * lam + 6 * lam_u) / (2 * mu_1 + lam + 2 * lam_u)\n",
        "    p2a = (5 * lam + lam * (mu_1)/(mu_1 + mu_2)) / (2 * mu_2 + lam + lam * (mu_1)/(mu_1 + mu_2))\n",
        "\n",
        "    w_1a = (p1a / (1 - p1a)) * (1 / (lam + 2 * lam_u))\n",
        "    w_2a = (p2a / (1 - p2a)) * (1 / (2 * lam))\n",
        "\n",
        "\n",
        "    result_a = (w_1a/2 + w_2a)\n",
        "    Ta2.append(result_a)\n",
        "\n",
        "    ################################  theory case B\n",
        "    p2b = (3 * lam) / (mu_2 + lam)\n",
        "\n",
        "    w_1b = 1 / (mu_1 - lam - 2 * lam_u)\n",
        "    w_2b = (p2b / (1 - p2b)) * (1 / (2 * lam))\n",
        "\n",
        "    result_b = (w_1b / 2) + w_2b\n",
        "    Tb2.append(result_b)\n",
        "\n",
        "    ################################  theory case C\n",
        "    p2c = (2 * lam + lam * (mu_1 / (mu_1 + mu_2))) / (mu_2 + lam * (mu_1 / (mu_1 + mu_2)))\n",
        "\n",
        "    w_1c = 1 / (mu_1 - lam - 2 * lam_u)\n",
        "    w_2c = (p2c / (1 - p2c)) * (1 / (2 * lam))\n",
        "\n",
        "    result_c = (w_1c / 2) + w_2c\n",
        "    Tc2.append(result_c)\n",
        "\n",
        "\n",
        "\n",
        "    aa = (((1 + N)/(lam_u) + 2/mu_1 + 2/mu_2) + (2/mu_1 + w_2a))/2\n",
        "    ab = (((1 + 2 * N)/(2 * lam_u) + 1/mu_1 + 1/mu_2) + (1/mu_1 + w_2b))/2\n",
        "    ac = (((1 + 2 * N)/(2 * lam_u) + 1/mu_1 + 1/mu_2 )+ (1/mu_1 + w_2c))/2\n",
        "\n",
        "    Aa2.append(aa)\n",
        "    Ab2.append(ab)\n",
        "    Ac2.append(ac)"
      ],
      "metadata": {
        "id": "bvlVenxdvY26"
      },
      "execution_count": null,
      "outputs": []
    },
    {
      "cell_type": "code",
      "source": [
        "Ta3, Tb3, Tc3, lambda_3 = [], [], [], []\n",
        "Aa3, Ab3, Ac3 = [], [], []\n",
        "mu_1, mu_2, lam_u, N = 10, 10, 0.5, 10\n",
        "\n",
        "for lam in np.linspace(1, 4 , 100):\n",
        "    lambda_3.append(lam)\n",
        "\n",
        "    ################################  theory case A\n",
        "    p1a = (3 * lam + 6 * lam_u) / (2 * mu_1 + lam + 2 * lam_u)\n",
        "    p2a = (5 * lam + lam * (mu_1)/(mu_1 + mu_2)) / (2 * mu_2 + lam + lam * (mu_1)/(mu_1 + mu_2))\n",
        "\n",
        "    w_1a = (p1a / (1 - p1a)) * (1 / (lam + 2 * lam_u))\n",
        "    w_2a = (p2a / (1 - p2a)) * (1 / (2 * lam))\n",
        "\n",
        "    result_a = (w_1a/2 + w_2a)\n",
        "    Ta3.append(result_a)\n",
        "\n",
        "    ################################  theory case B\n",
        "    p2b = (3 * lam) / (mu_2 + lam)\n",
        "\n",
        "    w_1b = 1 / (mu_1 - lam - 2 * lam_u)\n",
        "    w_2b = (p2b / (1 - p2b)) * (1 / (2 * lam))\n",
        "\n",
        "    result_b = (w_1b / 2) + w_2b\n",
        "    Tb3.append(result_b)\n",
        "\n",
        "    ################################  theory case C\n",
        "    p2c = (2 * lam + lam * (mu_1 / (mu_1 + mu_2))) / (mu_2 + lam * (mu_1 / (mu_1 + mu_2)))\n",
        "\n",
        "    w_1c = 1 / (mu_1 - lam - 2 * lam_u)\n",
        "    w_2c = (p2c / (1 - p2c)) * (1 / (2 * lam))\n",
        "\n",
        "    result_c = (w_1c / 2) + w_2c\n",
        "    Tc3.append(result_c)\n",
        "\n",
        "\n",
        "\n",
        "\n",
        "    ################################ AoI\n",
        "    aa = (((1 + N)/(lam_u) + 2/mu_1 + 2/mu_2) + (2/mu_1 + w_2a))/2\n",
        "    ab = (((1 + 2 * N)/(2 * lam_u) + 1/mu_1 + 1/mu_2) + (1/mu_1 + w_2b))/2\n",
        "    ac = (((1 + 2 * N)/(2 * lam_u) + 1/mu_1 + 1/mu_2 )+ (1/mu_1 + w_2c))/2\n",
        "\n",
        "    Aa3.append(aa)\n",
        "    Ab3.append(ab)\n",
        "    Ac3.append(ac)"
      ],
      "metadata": {
        "id": "XnXHDHDBAHSu"
      },
      "execution_count": null,
      "outputs": []
    },
    {
      "cell_type": "markdown",
      "source": [
        "# Plodtting"
      ],
      "metadata": {
        "id": "cWbDjVQ25PpL"
      }
    },
    {
      "cell_type": "code",
      "source": [
        "from matplotlib import rcParams\n",
        "rcParams.update({'figure.autolayout': True})\n",
        "\n",
        "\n",
        "fig = plt.figure(figsize=[3.5,1.5], dpi=300)\n",
        "########################################## Delay\n",
        "plt.subplot(1, 2, 1)\n",
        "plt.plot(lambda_, Ta, label = \"WCWD-Analytical\", linestyle='--', linewidth=0.5, color='m')\n",
        "plt.scatter(x1, ya1, 1, label = \"WCWD-Simulation\", marker='<')\n",
        "\n",
        "plt.plot(lambda_, Tb, label = \"PCWD-Analytical\", linewidth=0.5, color='c')\n",
        "plt.scatter(x1, yb1, 1, label = \"PCWD-Simulation\", marker='.')\n",
        "\n",
        "plt.plot(lambda_, Tc, label = \"PCPD-Analytical\", linestyle='-.', color='red', linewidth=0.5)\n",
        "plt.scatter(x1, yc1, 1, label = \"PCPD-Simulation\",marker='x')\n",
        "\n",
        "plt.ylabel('Average Delay')\n",
        "plt.xlabel('Lambda(λ)')\n",
        "\n",
        "plt.grid(linewidth=0.25)\n",
        "plt.legend(fontsize=4)\n",
        "\n",
        "########################################## AoI\n",
        "plt.subplot(1, 2, 2)\n",
        "plt.plot(lambda_, Aa, label = \"WCWD-Analytical\", linestyle='--',linewidth=0.5,  color='m')\n",
        "plt.plot(lambda_, Ab, label = \"PCWD-Analytical\",linewidth=0.5, color='c')\n",
        "plt.plot(lambda_, Ac, label = \"PCPD-Analytical\", linewidth=0.5, linestyle='-.',  color='red')\n",
        "\n",
        "plt.ylabel('Average AoI')\n",
        "plt.xlabel('Lambda(λ)')\n",
        "\n",
        "plt.grid(linewidth=0.25)\n",
        "plt.legend(fontsize=4)\n",
        "\n",
        "\n",
        "SMALL_SIZE = 5\n",
        "MEDIUM_SIZE = 10\n",
        "BIGGER_SIZE = 12\n",
        "\n",
        "plt.rc('font', size=SMALL_SIZE)          # controls default text sizes\n",
        "plt.rc('axes', titlesize=SMALL_SIZE)     # fontsize of the axes title\n",
        "plt.rc('axes', labelsize=SMALL_SIZE)    # fontsize of the x and y labels\n",
        "plt.rc('xtick', labelsize=SMALL_SIZE)    # fontsize of the tick labels\n",
        "plt.rc('ytick', labelsize=SMALL_SIZE)    # fontsize of the tick labels\n",
        "\n",
        "plt.rc('figure', titlesize=BIGGER_SIZE)  # fontsize of the figure title\n",
        "plt.savefig('ieee_conference_plot_1.png', dpi=1000, bbox_inches='tight', transparent=True)\n",
        "plt.show()"
      ],
      "metadata": {
        "id": "XfAxnaVK5WbD"
      },
      "execution_count": null,
      "outputs": []
    },
    {
      "cell_type": "code",
      "source": [
        "from matplotlib import rcParams\n",
        "rcParams.update({'figure.autolayout': True})\n",
        "\n",
        "plt.figure(figsize=[3.5,1.5], dpi=300)\n",
        "########################################## Delay 2\n",
        "plt.subplot(1, 2, 1)\n",
        "plt.plot(lambda_2, Ta2, label = \"WCWD-Analytical\", linestyle='--', linewidth=0.5, color='m')\n",
        "plt.scatter(x2, ya2, 1, label = \"WCWD-Simulation\",marker='<')\n",
        "\n",
        "plt.plot(lambda_2, Tb2, label = \"PCWD-Analytical\", linewidth=0.5, color='c')\n",
        "plt.scatter(x2, yb2, 1, label = \"PCWD-Simulation\", marker='.')\n",
        "\n",
        "plt.plot(lambda_2, Tc2, label = \"PCPD-Analytical\", linestyle='-.', color='red', linewidth=0.5)\n",
        "plt.scatter(x2, yc2, 1,label = \"PCPD-Simulation\", marker='x')\n",
        "\n",
        "plt.ylabel('Average Delay')\n",
        "plt.xlabel('Lambda(λ)')\n",
        "\n",
        "plt.grid(linewidth=0.25)\n",
        "plt.legend(fontsize=4)\n",
        "\n",
        "########################################## AoI 2\n",
        "plt.subplot(1, 2, 2)\n",
        "plt.plot(lambda_2, Aa2, label = \"WCWD-Analytical\", linestyle='--',linewidth=0.5,  color='m')\n",
        "plt.plot(lambda_2, Ab2, label = \"PCWD-Analytical\",linewidth=0.5, color='c')\n",
        "plt.plot(lambda_2, Ac2, label = \"PCPD-Analytical\", linewidth=0.5, linestyle='-.',  color='red')\n",
        "\n",
        "plt.ylabel('Average AoI')\n",
        "plt.xlabel('Lambda(λ)')\n",
        "\n",
        "plt.grid(linewidth=0.25)\n",
        "plt.legend(fontsize=4)\n",
        "\n",
        "\n",
        "SMALL_SIZE = 5\n",
        "MEDIUM_SIZE = 10\n",
        "BIGGER_SIZE = 12\n",
        "\n",
        "plt.rc('font', size=SMALL_SIZE)          # controls default text sizes\n",
        "plt.rc('axes', titlesize=SMALL_SIZE)     # fontsize of the axes title\n",
        "plt.rc('axes', labelsize=SMALL_SIZE)    # fontsize of the x and y labels\n",
        "plt.rc('xtick', labelsize=SMALL_SIZE)    # fontsize of the tick labels\n",
        "plt.rc('ytick', labelsize=SMALL_SIZE)    # fontsize of the tick labels\n",
        "\n",
        "plt.rc('figure', titlesize=BIGGER_SIZE)  # fontsize of the figure title\n",
        "plt.savefig('ieee_conference_plot_2.png', dpi=1000, bbox_inches='tight', transparent=True)\n",
        "plt.show()"
      ],
      "metadata": {
        "id": "nUBfd9jSs0Y7"
      },
      "execution_count": null,
      "outputs": []
    },
    {
      "cell_type": "code",
      "source": [
        "from matplotlib import rcParams\n",
        "rcParams.update({'figure.autolayout': True})\n",
        "\n",
        "plt.figure(figsize=[3.5,1.5], dpi=300)\n",
        "########################################## Delay 2\n",
        "plt.subplot(1, 2, 1)\n",
        "plt.plot(lambda_3, Ta3, label = \"WCWD-Analytical\", linestyle='--', linewidth=0.5, color='m')\n",
        "plt.scatter(x3, ya3, 1, label = \"WCWD-Simulation\",marker='<')\n",
        "\n",
        "plt.plot(lambda_3, Tb3, label = \"PCWD-Analytical\", linewidth=0.5, color='c')\n",
        "plt.scatter(x3, yb3, 1, label = \"PCWD-Simulation\", marker='.')\n",
        "\n",
        "plt.plot(lambda_3, Tc3, label = \"PCPD-Analytical\", linestyle='-.', color='red', linewidth=0.5)\n",
        "plt.scatter(x3, yc3, 1,label = \"PCPD-Simulation\", marker='x')\n",
        "\n",
        "plt.ylabel('Average Delay')\n",
        "plt.xlabel('Lambda(λ)')\n",
        "\n",
        "plt.grid(linewidth=0.25)\n",
        "plt.legend(fontsize=4)\n",
        "\n",
        "########################################## AoI 2\n",
        "plt.subplot(1, 2, 2)\n",
        "plt.plot(lambda_3, Aa3, label = \"WCWD-Analytical\", linestyle='--',linewidth=0.5,  color='m')\n",
        "plt.plot(lambda_3, Ab3, label = \"PCWD-Analytical\",linewidth=0.5, color='c')\n",
        "plt.plot(lambda_3, Ac3, label = \"PCPD-Analytical\", linewidth=0.5, linestyle='-.',  color='red')\n",
        "\n",
        "plt.ylabel('Average AoI')\n",
        "plt.xlabel('Lambda(λ)')\n",
        "\n",
        "plt.grid(linewidth=0.25)\n",
        "plt.legend(fontsize=4)\n",
        "\n",
        "\n",
        "SMALL_SIZE = 4\n",
        "MEDIUM_SIZE = 10\n",
        "BIGGER_SIZE = 12\n",
        "\n",
        "plt.rc('font', size=SMALL_SIZE)          # controls default text sizes\n",
        "plt.rc('axes', titlesize=SMALL_SIZE)     # fontsize of the axes title\n",
        "plt.rc('axes', labelsize=SMALL_SIZE)    # fontsize of the x and y labels\n",
        "plt.rc('xtick', labelsize=SMALL_SIZE)    # fontsize of the tick labels\n",
        "plt.rc('ytick', labelsize=SMALL_SIZE)    # fontsize of the tick labels\n",
        "\n",
        "plt.rc('figure', titlesize=BIGGER_SIZE)  # fontsize of the figure title\n",
        "plt.savefig('ieee_conference_plot_3.png', dpi=1000, bbox_inches='tight', transparent=True)\n",
        "plt.show()"
      ],
      "metadata": {
        "id": "v7iWJNm1_v9c"
      },
      "execution_count": null,
      "outputs": []
    }
  ]
}